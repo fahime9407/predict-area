{
 "cells": [
  {
   "cell_type": "code",
   "execution_count": 9,
   "metadata": {},
   "outputs": [],
   "source": [
    "import pandas as pd\n",
    "import seaborn as sns\n",
    "import matplotlib.pyplot as plt\n",
    "import numpy as np"
   ]
  },
  {
   "cell_type": "markdown",
   "metadata": {},
   "source": [
    "### Dataset Definition"
   ]
  },
  {
   "cell_type": "code",
   "execution_count": 2,
   "metadata": {},
   "outputs": [
    {
     "name": "stdout",
     "output_type": "stream",
     "text": [
      "<class 'pandas.core.frame.DataFrame'>\n",
      "RangeIndex: 253 entries, 0 to 252\n",
      "Data columns (total 18 columns):\n",
      " #   Column        Non-Null Count  Dtype  \n",
      "---  ------        --------------  -----  \n",
      " 0   country       253 non-null    object \n",
      " 1   demonym       244 non-null    object \n",
      " 2   id            252 non-null    object \n",
      " 3   iso2          249 non-null    object \n",
      " 4   tld           246 non-null    object \n",
      " 5   currency      245 non-null    object \n",
      " 6   population    239 non-null    float64\n",
      " 7   density       237 non-null    float64\n",
      " 8   area          242 non-null    float64\n",
      " 9   gdp           206 non-null    float64\n",
      " 10  median_age    225 non-null    float64\n",
      " 11  language      245 non-null    object \n",
      " 12  website       240 non-null    object \n",
      " 13  calling_code  238 non-null    float64\n",
      " 14  driving_side  252 non-null    object \n",
      " 15  continent     250 non-null    object \n",
      " 16  un_member     253 non-null    bool   \n",
      " 17  religion      247 non-null    object \n",
      "dtypes: bool(1), float64(6), object(11)\n",
      "memory usage: 34.0+ KB\n"
     ]
    }
   ],
   "source": [
    "df = pd.read_csv(\"countries.csv\")\n",
    "df.info()"
   ]
  },
  {
   "cell_type": "code",
   "execution_count": 3,
   "metadata": {},
   "outputs": [
    {
     "data": {
      "text/plain": [
       "country         0\n",
       "demonym         0\n",
       "id              0\n",
       "iso2            0\n",
       "tld             0\n",
       "currency        0\n",
       "population      0\n",
       "density         0\n",
       "area            0\n",
       "gdp             0\n",
       "median_age      0\n",
       "language        0\n",
       "website         0\n",
       "calling_code    0\n",
       "driving_side    0\n",
       "continent       0\n",
       "un_member       0\n",
       "religion        0\n",
       "dtype: int64"
      ]
     },
     "execution_count": 3,
     "metadata": {},
     "output_type": "execute_result"
    }
   ],
   "source": [
    "df = df.dropna()\n",
    "df.isna().sum()"
   ]
  },
  {
   "cell_type": "code",
   "execution_count": 4,
   "metadata": {},
   "outputs": [
    {
     "name": "stdout",
     "output_type": "stream",
     "text": [
      "<class 'pandas.core.frame.DataFrame'>\n",
      "Index: 195 entries, 0 to 223\n",
      "Data columns (total 6 columns):\n",
      " #   Column      Non-Null Count  Dtype  \n",
      "---  ------      --------------  -----  \n",
      " 0   country     195 non-null    object \n",
      " 1   population  195 non-null    float64\n",
      " 2   gdp         195 non-null    float64\n",
      " 3   continent   195 non-null    object \n",
      " 4   religion    195 non-null    object \n",
      " 5   area        195 non-null    float64\n",
      "dtypes: float64(3), object(3)\n",
      "memory usage: 10.7+ KB\n"
     ]
    }
   ],
   "source": [
    "cdf = df[[\"country\", \"population\", \"gdp\", \"continent\", \"religion\", \"area\"]]\n",
    "cdf.info()"
   ]
  },
  {
   "cell_type": "code",
   "execution_count": 5,
   "metadata": {},
   "outputs": [
    {
     "data": {
      "text/html": [
       "<div>\n",
       "<style scoped>\n",
       "    .dataframe tbody tr th:only-of-type {\n",
       "        vertical-align: middle;\n",
       "    }\n",
       "\n",
       "    .dataframe tbody tr th {\n",
       "        vertical-align: top;\n",
       "    }\n",
       "\n",
       "    .dataframe thead th {\n",
       "        text-align: right;\n",
       "    }\n",
       "</style>\n",
       "<table border=\"1\" class=\"dataframe\">\n",
       "  <thead>\n",
       "    <tr style=\"text-align: right;\">\n",
       "      <th></th>\n",
       "      <th>population</th>\n",
       "      <th>gdp</th>\n",
       "      <th>area</th>\n",
       "    </tr>\n",
       "  </thead>\n",
       "  <tbody>\n",
       "    <tr>\n",
       "      <th>count</th>\n",
       "      <td>1.950000e+02</td>\n",
       "      <td>1.950000e+02</td>\n",
       "      <td>1.950000e+02</td>\n",
       "    </tr>\n",
       "    <tr>\n",
       "      <th>mean</th>\n",
       "      <td>4.007075e+07</td>\n",
       "      <td>5.065345e+05</td>\n",
       "      <td>6.669032e+05</td>\n",
       "    </tr>\n",
       "    <tr>\n",
       "      <th>std</th>\n",
       "      <td>1.478626e+08</td>\n",
       "      <td>2.313118e+06</td>\n",
       "      <td>1.922778e+06</td>\n",
       "    </tr>\n",
       "    <tr>\n",
       "      <th>min</th>\n",
       "      <td>9.852000e+03</td>\n",
       "      <td>5.900000e+01</td>\n",
       "      <td>2.000000e+00</td>\n",
       "    </tr>\n",
       "    <tr>\n",
       "      <th>25%</th>\n",
       "      <td>1.308784e+06</td>\n",
       "      <td>7.922000e+03</td>\n",
       "      <td>1.759100e+04</td>\n",
       "    </tr>\n",
       "    <tr>\n",
       "      <th>50%</th>\n",
       "      <td>7.852377e+06</td>\n",
       "      <td>3.248800e+04</td>\n",
       "      <td>1.088890e+05</td>\n",
       "    </tr>\n",
       "    <tr>\n",
       "      <th>75%</th>\n",
       "      <td>3.032700e+07</td>\n",
       "      <td>2.398660e+05</td>\n",
       "      <td>4.691400e+05</td>\n",
       "    </tr>\n",
       "    <tr>\n",
       "      <th>max</th>\n",
       "      <td>1.413143e+09</td>\n",
       "      <td>2.574410e+07</td>\n",
       "      <td>1.709824e+07</td>\n",
       "    </tr>\n",
       "  </tbody>\n",
       "</table>\n",
       "</div>"
      ],
      "text/plain": [
       "         population           gdp          area\n",
       "count  1.950000e+02  1.950000e+02  1.950000e+02\n",
       "mean   4.007075e+07  5.065345e+05  6.669032e+05\n",
       "std    1.478626e+08  2.313118e+06  1.922778e+06\n",
       "min    9.852000e+03  5.900000e+01  2.000000e+00\n",
       "25%    1.308784e+06  7.922000e+03  1.759100e+04\n",
       "50%    7.852377e+06  3.248800e+04  1.088890e+05\n",
       "75%    3.032700e+07  2.398660e+05  4.691400e+05\n",
       "max    1.413143e+09  2.574410e+07  1.709824e+07"
      ]
     },
     "execution_count": 5,
     "metadata": {},
     "output_type": "execute_result"
    }
   ],
   "source": [
    "cdf.describe()"
   ]
  },
  {
   "cell_type": "markdown",
   "metadata": {},
   "source": [
    "### Preprocessing"
   ]
  },
  {
   "cell_type": "code",
   "execution_count": 6,
   "metadata": {},
   "outputs": [
    {
     "data": {
      "text/html": [
       "<div>\n",
       "<style scoped>\n",
       "    .dataframe tbody tr th:only-of-type {\n",
       "        vertical-align: middle;\n",
       "    }\n",
       "\n",
       "    .dataframe tbody tr th {\n",
       "        vertical-align: top;\n",
       "    }\n",
       "\n",
       "    .dataframe thead th {\n",
       "        text-align: right;\n",
       "    }\n",
       "</style>\n",
       "<table border=\"1\" class=\"dataframe\">\n",
       "  <thead>\n",
       "    <tr style=\"text-align: right;\">\n",
       "      <th></th>\n",
       "      <th>country</th>\n",
       "      <th>population</th>\n",
       "      <th>gdp</th>\n",
       "      <th>religion</th>\n",
       "      <th>area</th>\n",
       "      <th>continent_encoded</th>\n",
       "    </tr>\n",
       "  </thead>\n",
       "  <tbody>\n",
       "  </tbody>\n",
       "</table>\n",
       "</div>"
      ],
      "text/plain": [
       "Empty DataFrame\n",
       "Columns: [country, population, gdp, religion, area, continent_encoded]\n",
       "Index: []"
      ]
     },
     "execution_count": 6,
     "metadata": {},
     "output_type": "execute_result"
    }
   ],
   "source": [
    "cdf = cdf.copy()\n",
    "\n",
    "mean_area1 = cdf.groupby(\"continent\")[\"area\"].mean()\n",
    "cdf[\"continent_encoded\"] = cdf[\"continent\"].map(mean_area1)\n",
    "\n",
    "cdf.drop(\"continent\", axis=1, inplace=True)\n",
    "cdf.head(0)"
   ]
  },
  {
   "cell_type": "code",
   "execution_count": 7,
   "metadata": {},
   "outputs": [
    {
     "data": {
      "text/html": [
       "<div>\n",
       "<style scoped>\n",
       "    .dataframe tbody tr th:only-of-type {\n",
       "        vertical-align: middle;\n",
       "    }\n",
       "\n",
       "    .dataframe tbody tr th {\n",
       "        vertical-align: top;\n",
       "    }\n",
       "\n",
       "    .dataframe thead th {\n",
       "        text-align: right;\n",
       "    }\n",
       "</style>\n",
       "<table border=\"1\" class=\"dataframe\">\n",
       "  <thead>\n",
       "    <tr style=\"text-align: right;\">\n",
       "      <th></th>\n",
       "      <th>country</th>\n",
       "      <th>population</th>\n",
       "      <th>gdp</th>\n",
       "      <th>area</th>\n",
       "      <th>continent_encoded</th>\n",
       "      <th>religion_encoded</th>\n",
       "    </tr>\n",
       "  </thead>\n",
       "  <tbody>\n",
       "  </tbody>\n",
       "</table>\n",
       "</div>"
      ],
      "text/plain": [
       "Empty DataFrame\n",
       "Columns: [country, population, gdp, area, continent_encoded, religion_encoded]\n",
       "Index: []"
      ]
     },
     "execution_count": 7,
     "metadata": {},
     "output_type": "execute_result"
    }
   ],
   "source": [
    "mean_area2 = cdf.groupby(\"religion\")[\"area\"].mean()\n",
    "cdf[\"religion_encoded\"] = cdf[\"religion\"].map(mean_area2)\n",
    "\n",
    "cdf.drop(\"religion\", axis=1, inplace=True)\n",
    "cdf.head(0)"
   ]
  },
  {
   "cell_type": "code",
   "execution_count": 8,
   "metadata": {},
   "outputs": [
    {
     "data": {
      "image/png": "[encoded data removed]",
      "text/plain": [
       "<Figure size 640x480 with 2 Axes>"
      ]
     },
     "metadata": {},
     "output_type": "display_data"
    }
   ],
   "source": [
    "corr = cdf.corr(numeric_only=True)\n",
    "sns.heatmap(corr, annot=True, cmap=\"coolwarm\")\n",
    "plt.show()"
   ]
  },
  {
   "cell_type": "code",
   "execution_count": 10,
   "metadata": {},
   "outputs": [
    {
     "data": {
      "text/plain": [
       "((156, 6), (39, 6))"
      ]
     },
     "execution_count": 10,
     "metadata": {},
     "output_type": "execute_result"
    }
   ],
   "source": [
    "msk = np.random.rand(len(cdf)) < 0.8\n",
    "train, test = cdf[msk], cdf[~msk]\n",
    "\n",
    "train.shape, test.shape"
   ]
  },
  {
   "cell_type": "markdown",
   "metadata": {},
   "source": [
    "### Model Definition"
   ]
  },
  {
   "cell_type": "code",
   "execution_count": null,
   "metadata": {},
   "outputs": [],
   "source": []
  }
 ],
 "metadata": {
  "kernelspec": {
   "display_name": "myvenv",
   "language": "python",
   "name": "python3"
  },
  "language_info": {
   "codemirror_mode": {
    "name": "ipython",
    "version": 3
   },
   "file_extension": ".py",
   "mimetype": "text/x-python",
   "name": "python",
   "nbconvert_exporter": "python",
   "pygments_lexer": "ipython3",
   "version": "3.13.2"
  }
 },
 "nbformat": 4,
 "nbformat_minor": 2
}
